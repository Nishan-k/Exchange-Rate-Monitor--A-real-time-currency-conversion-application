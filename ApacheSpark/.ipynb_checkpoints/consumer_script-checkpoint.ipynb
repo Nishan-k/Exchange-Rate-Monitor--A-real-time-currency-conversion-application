{
 "cells": [
  {
   "cell_type": "code",
   "execution_count": 1,
   "metadata": {},
   "outputs": [],
   "source": [
    "from pyspark.sql import SparkSession"
   ]
  },
  {
   "cell_type": "code",
   "execution_count": 2,
   "metadata": {},
   "outputs": [],
   "source": [
    "spark = (SparkSession.builder.master(\"local\").appName(\"stock-price-streaming\") \\\n",
    "        .config(\"spark.jars.packages\", \"org.apache.spark:spark-sql-kafka-0-10_2.11:2.4.5,org.mongodb.spark:mongo-spark-connector_2.11:2.4.0\") \\\n",
    "        .getOrCreate())\n"
   ]
  },
  {
   "cell_type": "code",
   "execution_count": 24,
   "metadata": {},
   "outputs": [],
   "source": [
    "# # Consumer for Google:\n",
    "\n",
    "# google_df = spark.readStream.format(\"kafka\").option(\"kafka.bootstrap.servers\", \"kafka:9092\") \\\n",
    "#             .option(\"subscribe\", \"google-topic\").load()\n",
    "\n",
    "# # Convert the data back to string:\n",
    "# google_df_string = google_df.selectExpr(\"CAST(key AS STRING)\", \"CAST(value AS STRING)\")\n",
    "\n",
    "# # Create a temporary view:\n",
    "# google_df_string.createOrReplaceTempView(\"google_message\")\n",
    "\n",
    "# # Print the output in the console:\n",
    "# google_res = spark.sql(\"Select * from google_message\")\n",
    "# google_res.writeStream.format(\"console\").outputMode(\"append\").start()\n"
   ]
  },
  {
   "cell_type": "code",
   "execution_count": 22,
   "metadata": {},
   "outputs": [],
   "source": [
    "companies = [\"amazon\", \"apple\", \"coke\", \"google\", \"ibm\", \"johnson\", \"meta\", \"nvidia\", \"pinterest\", \"tesla\"]"
   ]
  },
  {
   "cell_type": "code",
   "execution_count": 17,
   "metadata": {},
   "outputs": [],
   "source": [
    "def consumer_func(company ):\n",
    "    '''\n",
    "    This is a consumer function that will take in the company name that will subscribe to the topic\n",
    "    of that particular topic.\n",
    "    '''\n",
    "    dataframe = f\"{company}\" + \"_\" + \"df\"\n",
    "    dataframe_string = f\"{company}\" + \"_\" +\"df\" + \"_\" + \"string\"\n",
    "    topic_name = f\"{company}\" + \"-\" + \"topic\"\n",
    "    temp_table = f\"{company}\" + \"_\" + \"message\"\n",
    "    temp_res = f\"{company}\" + \"_\" +\"res\"\n",
    "    \n",
    "    \n",
    "    # Subscribe to the topic:\n",
    "    dataframe = spark.readStream.format(\"kafka\").option(\"kafka.bootstrap.servers\", \"kafka:9092\") \\\n",
    "                .option(\"subscribe\", f\"{topic_name}\").load()\n",
    "    \n",
    "    # Convert the recieved data from bytes to string:\n",
    "    dataframe_string = dataframe.selectExpr(\"CAST(key AS STRING)\", \"CAST(value AS STRING)\")\n",
    "    \n",
    "    # Create a temporary view:\n",
    "    dataframe_string.createOrReplaceTempView(f\"{temp_table}\")\n",
    "    \n",
    "    # Print the output in the console:\n",
    "    temp_res = spark.sql(f\"select * from {temp_table}\")\n",
    "    temp_res.writeStream.format(\"console\").outputMode(\"append\").start()"
   ]
  },
  {
   "cell_type": "code",
   "execution_count": 23,
   "metadata": {},
   "outputs": [],
   "source": [
    "for company in companies:\n",
    "    consumer_func(company=company)"
   ]
  },
  {
   "cell_type": "code",
   "execution_count": null,
   "metadata": {},
   "outputs": [],
   "source": []
  },
  {
   "cell_type": "code",
   "execution_count": 11,
   "metadata": {},
   "outputs": [],
   "source": []
  },
  {
   "cell_type": "code",
   "execution_count": null,
   "metadata": {},
   "outputs": [],
   "source": []
  },
  {
   "cell_type": "code",
   "execution_count": null,
   "metadata": {},
   "outputs": [],
   "source": []
  }
 ],
 "metadata": {
  "kernelspec": {
   "display_name": "Python 3",
   "language": "python",
   "name": "python3"
  },
  "language_info": {
   "codemirror_mode": {
    "name": "ipython",
    "version": 3
   },
   "file_extension": ".py",
   "mimetype": "text/x-python",
   "name": "python",
   "nbconvert_exporter": "python",
   "pygments_lexer": "ipython3",
   "version": "3.7.6"
  }
 },
 "nbformat": 4,
 "nbformat_minor": 2
}
