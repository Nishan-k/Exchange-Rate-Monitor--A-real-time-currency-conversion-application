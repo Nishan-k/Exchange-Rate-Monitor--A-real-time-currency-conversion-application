{
 "cells": [
  {
   "cell_type": "code",
   "execution_count": 1,
   "metadata": {},
   "outputs": [],
   "source": [
    "from pyspark.sql import SparkSession"
   ]
  },
  {
   "cell_type": "code",
   "execution_count": 2,
   "metadata": {},
   "outputs": [],
   "source": [
    "spark = (SparkSession.builder.master(\"local\").appName(\"stock-price-streaming\") \\\n",
    "        .config(\"spark.jars.packages\", \"org.apache.spark:spark-sql-kafka-0-10_2.11:2.4.5,org.mongodb.spark:mongo-spark-connector_2.11:2.4.0\") \\\n",
    "        .getOrCreate())\n"
   ]
  },
  {
   "cell_type": "code",
   "execution_count": 15,
   "metadata": {},
   "outputs": [
    {
     "data": {
      "text/plain": [
       "<pyspark.sql.streaming.StreamingQuery at 0x7f0763c6a810>"
      ]
     },
     "execution_count": 15,
     "metadata": {},
     "output_type": "execute_result"
    }
   ],
   "source": [
    "# Amazon consumer:\n",
    "amazon_df = spark.readStream.format(\"kafka\")\\\n",
    "            .option(\"kafka.bootstrap.servers\", \"kafka:9092\") \\\n",
    "            .option(\"subscribe\", \"amazon-topic\")\\\n",
    "            .load()\n",
    "\n",
    "# Convert the binaries into string:\n",
    "\n",
    "amazon_df_string = amazon_df.selectExpr(\"CAST(key AS STRING)\", \"CAST(value AS STRING)\")\n",
    "\n",
    "\n",
    "# Create a temporary view for running sql queries to print data into the console:\n",
    "amazon_df_string.createOrReplaceTempView(\"amz_message\")\n",
    "\n",
    "\n",
    "\n",
    "# Print the output in the console for testing purpose:\n",
    "\n",
    "amz_res = spark.sql(\"select * from amz_message\")\n",
    "amz_res.writeStream.format(\"console\").outputMode(\"append\").start()"
   ]
  },
  {
   "cell_type": "code",
   "execution_count": 23,
   "metadata": {},
   "outputs": [
    {
     "data": {
      "text/plain": [
       "<pyspark.sql.streaming.StreamingQuery at 0x7f0763c6ad10>"
      ]
     },
     "execution_count": 23,
     "metadata": {},
     "output_type": "execute_result"
    }
   ],
   "source": [
    "# Apple consumer:\n",
    "\n",
    "apple_df = spark.readStream.format(\"kafka\").option(\"kafka.bootstrap.servers\", \"kafka:9092\")\\\n",
    "           .option(\"subscribe\", \"apple-topic\").load()\n",
    "\n",
    "# Convert the data to string:\n",
    "apple_df_string = apple_df.selectExpr(\"CAST(key AS STRING)\", \"CAST(value AS STRING)\")\n",
    "\n",
    "# Create a temporary view:\n",
    "apple_df_string.createOrReplaceTempView(\"apple_message\")\n",
    "\n",
    "# Print the data in the console:\n",
    "apple_res = spark.sql(\"Select * from apple_message\")\n",
    "apple_res.writeStream.format(\"console\").outputMode(\"append\").start()"
   ]
  },
  {
   "cell_type": "code",
   "execution_count": 17,
   "metadata": {},
   "outputs": [
    {
     "data": {
      "text/plain": [
       "<pyspark.sql.streaming.StreamingQuery at 0x7f0763ea0610>"
      ]
     },
     "execution_count": 17,
     "metadata": {},
     "output_type": "execute_result"
    }
   ],
   "source": [
    "# Coke consumer:\n",
    "\n",
    "coke_df = spark.readStream.format(\"kafka\").option(\"kafka.bootstrap.servers\", \"kafka:9092\") \\\n",
    "          .option(\"subscribe\", \"coke-topic\").load()\n",
    "\n",
    "\n",
    "# Convert the data back to string:\n",
    "coke_df_string = coke_df.selectExpr(\"CAST(key AS STRING)\", \"CAST(value AS STRING)\")\n",
    "\n",
    "# Create a temporary view:\n",
    "coke_df_string.createOrReplaceTempView(\"coke_message\")\n",
    "\n",
    "\n",
    "# Print the output in the console:\n",
    "coke_res = spark.sql(\"Select * from coke_message\")\n",
    "coke_res.writeStream.format(\"console\").outputMode(\"append\").start()"
   ]
  },
  {
   "cell_type": "code",
   "execution_count": null,
   "metadata": {},
   "outputs": [],
   "source": [
    "# Consumer for Google:\n",
    "\n",
    "google_df = spark.readStream.format(\"kafka\").option(\"kafka.bootstrap.servers\", \"kafka:9092\") \\\n",
    "            .option(\"subscribe\", \"google-topic\").load()\n",
    "\n",
    "# Convert the data back to string:\n",
    "google_df_string = google_df.selectExpr(\"CAST(key AS STRING)\", \"CAST(value AS STRING)\")\n",
    "\n",
    "# Create a temporary view:\n",
    "google_df_string.createOrReplaceTempView(\"google_message\")\n",
    "\n",
    "# Print the output in the console:\n",
    "google_res = spark.sql(\"Select * from google_message\")\n",
    "google_res.writeStream.format(\"console\").outputMode(\"append\").start()\n"
   ]
  },
  {
   "cell_type": "code",
   "execution_count": null,
   "metadata": {},
   "outputs": [],
   "source": [
    "def consumer_func(topic, )"
   ]
  },
  {
   "cell_type": "code",
   "execution_count": null,
   "metadata": {},
   "outputs": [],
   "source": []
  },
  {
   "cell_type": "code",
   "execution_count": 11,
   "metadata": {},
   "outputs": [],
   "source": []
  },
  {
   "cell_type": "code",
   "execution_count": null,
   "metadata": {},
   "outputs": [],
   "source": []
  },
  {
   "cell_type": "code",
   "execution_count": null,
   "metadata": {},
   "outputs": [],
   "source": []
  }
 ],
 "metadata": {
  "kernelspec": {
   "display_name": "Python 3",
   "language": "python",
   "name": "python3"
  },
  "language_info": {
   "codemirror_mode": {
    "name": "ipython",
    "version": 3
   },
   "file_extension": ".py",
   "mimetype": "text/x-python",
   "name": "python",
   "nbconvert_exporter": "python",
   "pygments_lexer": "ipython3",
   "version": "3.7.6"
  }
 },
 "nbformat": 4,
 "nbformat_minor": 2
}
